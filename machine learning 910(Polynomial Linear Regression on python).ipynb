{
 "cells": [
  {
   "cell_type": "code",
   "execution_count": 1,
   "metadata": {},
   "outputs": [],
   "source": [
    "import numpy as np\n",
    "import pandas as pd\n",
    "import matplotlib.pyplot as plt\n"
   ]
  },
  {
   "cell_type": "code",
   "execution_count": 2,
   "metadata": {},
   "outputs": [
    {
     "data": {
      "text/html": [
       "<div>\n",
       "<style scoped>\n",
       "    .dataframe tbody tr th:only-of-type {\n",
       "        vertical-align: middle;\n",
       "    }\n",
       "\n",
       "    .dataframe tbody tr th {\n",
       "        vertical-align: top;\n",
       "    }\n",
       "\n",
       "    .dataframe thead th {\n",
       "        text-align: right;\n",
       "    }\n",
       "</style>\n",
       "<table border=\"1\" class=\"dataframe\">\n",
       "  <thead>\n",
       "    <tr style=\"text-align: right;\">\n",
       "      <th></th>\n",
       "      <th>Level</th>\n",
       "      <th>Basic Salary</th>\n",
       "    </tr>\n",
       "  </thead>\n",
       "  <tbody>\n",
       "    <tr>\n",
       "      <th>0</th>\n",
       "      <td>1</td>\n",
       "      <td>18000</td>\n",
       "    </tr>\n",
       "    <tr>\n",
       "      <th>1</th>\n",
       "      <td>2</td>\n",
       "      <td>19900</td>\n",
       "    </tr>\n",
       "    <tr>\n",
       "      <th>2</th>\n",
       "      <td>3</td>\n",
       "      <td>21700</td>\n",
       "    </tr>\n",
       "    <tr>\n",
       "      <th>3</th>\n",
       "      <td>4</td>\n",
       "      <td>25500</td>\n",
       "    </tr>\n",
       "    <tr>\n",
       "      <th>4</th>\n",
       "      <td>5</td>\n",
       "      <td>29200</td>\n",
       "    </tr>\n",
       "    <tr>\n",
       "      <th>5</th>\n",
       "      <td>6</td>\n",
       "      <td>35400</td>\n",
       "    </tr>\n",
       "    <tr>\n",
       "      <th>6</th>\n",
       "      <td>7</td>\n",
       "      <td>44900</td>\n",
       "    </tr>\n",
       "    <tr>\n",
       "      <th>7</th>\n",
       "      <td>8</td>\n",
       "      <td>47600</td>\n",
       "    </tr>\n",
       "    <tr>\n",
       "      <th>8</th>\n",
       "      <td>9</td>\n",
       "      <td>53100</td>\n",
       "    </tr>\n",
       "    <tr>\n",
       "      <th>9</th>\n",
       "      <td>10</td>\n",
       "      <td>56100</td>\n",
       "    </tr>\n",
       "    <tr>\n",
       "      <th>10</th>\n",
       "      <td>11</td>\n",
       "      <td>67700</td>\n",
       "    </tr>\n",
       "    <tr>\n",
       "      <th>11</th>\n",
       "      <td>12</td>\n",
       "      <td>78800</td>\n",
       "    </tr>\n",
       "    <tr>\n",
       "      <th>12</th>\n",
       "      <td>13</td>\n",
       "      <td>118500</td>\n",
       "    </tr>\n",
       "    <tr>\n",
       "      <th>13</th>\n",
       "      <td>14</td>\n",
       "      <td>131100</td>\n",
       "    </tr>\n",
       "    <tr>\n",
       "      <th>14</th>\n",
       "      <td>15</td>\n",
       "      <td>144200</td>\n",
       "    </tr>\n",
       "    <tr>\n",
       "      <th>15</th>\n",
       "      <td>16</td>\n",
       "      <td>182200</td>\n",
       "    </tr>\n",
       "    <tr>\n",
       "      <th>16</th>\n",
       "      <td>17</td>\n",
       "      <td>205400</td>\n",
       "    </tr>\n",
       "    <tr>\n",
       "      <th>17</th>\n",
       "      <td>18</td>\n",
       "      <td>225000</td>\n",
       "    </tr>\n",
       "    <tr>\n",
       "      <th>18</th>\n",
       "      <td>19</td>\n",
       "      <td>250000</td>\n",
       "    </tr>\n",
       "  </tbody>\n",
       "</table>\n",
       "</div>"
      ],
      "text/plain": [
       "    Level  Basic Salary\n",
       "0       1         18000\n",
       "1       2         19900\n",
       "2       3         21700\n",
       "3       4         25500\n",
       "4       5         29200\n",
       "5       6         35400\n",
       "6       7         44900\n",
       "7       8         47600\n",
       "8       9         53100\n",
       "9      10         56100\n",
       "10     11         67700\n",
       "11     12         78800\n",
       "12     13        118500\n",
       "13     14        131100\n",
       "14     15        144200\n",
       "15     16        182200\n",
       "16     17        205400\n",
       "17     18        225000\n",
       "18     19        250000"
      ]
     },
     "execution_count": 2,
     "metadata": {},
     "output_type": "execute_result"
    }
   ],
   "source": [
    "dataset=pd.read_csv(\"D:\\\\Machine learning\\\\7thPayMatrix.csv\")\n",
    "dataset"
   ]
  },
  {
   "cell_type": "code",
   "execution_count": 3,
   "metadata": {},
   "outputs": [
    {
     "data": {
      "text/plain": [
       "(19, 1)"
      ]
     },
     "execution_count": 3,
     "metadata": {},
     "output_type": "execute_result"
    }
   ],
   "source": [
    "x=dataset.iloc[:,0:1].values    #.values convert table into array\n",
    "y=dataset.iloc[:,1:2].values  #.iloc[:,0:1]  convert column into 2d array while ['basic salary'] convert in 1d while we need 2d array\n",
    "x.shape"
   ]
  },
  {
   "cell_type": "code",
   "execution_count": 4,
   "metadata": {},
   "outputs": [
    {
     "data": {
      "image/png": "[encoded data removed]",
      "text/plain": [
       "<Figure size 432x288 with 1 Axes>"
      ]
     },
     "metadata": {
      "needs_background": "light"
     },
     "output_type": "display_data"
    }
   ],
   "source": [
    "plt.scatter(x,y,color='r')\n",
    "plt.xlabel('Level')\n",
    "plt.ylabel('Basic salary')\n",
    "plt.show()"
   ]
  },
  {
   "cell_type": "code",
   "execution_count": 5,
   "metadata": {},
   "outputs": [],
   "source": [
    "from sklearn.preprocessing import PolynomialFeatures\n",
    "obj=PolynomialFeatures(degree=8)  #object created of polynomial feature with degree 3 means max power is x^3"
   ]
  },
  {
   "cell_type": "code",
   "execution_count": 6,
   "metadata": {},
   "outputs": [
    {
     "data": {
      "text/plain": [
       "array([[1.00000000e+00, 1.00000000e+00, 1.00000000e+00, 1.00000000e+00,\n",
       "        1.00000000e+00, 1.00000000e+00, 1.00000000e+00, 1.00000000e+00,\n",
       "        1.00000000e+00],\n",
       "       [1.00000000e+00, 2.00000000e+00, 4.00000000e+00, 8.00000000e+00,\n",
       "        1.60000000e+01, 3.20000000e+01, 6.40000000e+01, 1.28000000e+02,\n",
       "        2.56000000e+02],\n",
       "       [1.00000000e+00, 3.00000000e+00, 9.00000000e+00, 2.70000000e+01,\n",
       "        8.10000000e+01, 2.43000000e+02, 7.29000000e+02, 2.18700000e+03,\n",
       "        6.56100000e+03],\n",
       "       [1.00000000e+00, 4.00000000e+00, 1.60000000e+01, 6.40000000e+01,\n",
       "        2.56000000e+02, 1.02400000e+03, 4.09600000e+03, 1.63840000e+04,\n",
       "        6.55360000e+04],\n",
       "       [1.00000000e+00, 5.00000000e+00, 2.50000000e+01, 1.25000000e+02,\n",
       "        6.25000000e+02, 3.12500000e+03, 1.56250000e+04, 7.81250000e+04,\n",
       "        3.90625000e+05],\n",
       "       [1.00000000e+00, 6.00000000e+00, 3.60000000e+01, 2.16000000e+02,\n",
       "        1.29600000e+03, 7.77600000e+03, 4.66560000e+04, 2.79936000e+05,\n",
       "        1.67961600e+06],\n",
       "       [1.00000000e+00, 7.00000000e+00, 4.90000000e+01, 3.43000000e+02,\n",
       "        2.40100000e+03, 1.68070000e+04, 1.17649000e+05, 8.23543000e+05,\n",
       "        5.76480100e+06],\n",
       "       [1.00000000e+00, 8.00000000e+00, 6.40000000e+01, 5.12000000e+02,\n",
       "        4.09600000e+03, 3.27680000e+04, 2.62144000e+05, 2.09715200e+06,\n",
       "        1.67772160e+07],\n",
       "       [1.00000000e+00, 9.00000000e+00, 8.10000000e+01, 7.29000000e+02,\n",
       "        6.56100000e+03, 5.90490000e+04, 5.31441000e+05, 4.78296900e+06,\n",
       "        4.30467210e+07],\n",
       "       [1.00000000e+00, 1.00000000e+01, 1.00000000e+02, 1.00000000e+03,\n",
       "        1.00000000e+04, 1.00000000e+05, 1.00000000e+06, 1.00000000e+07,\n",
       "        1.00000000e+08],\n",
       "       [1.00000000e+00, 1.10000000e+01, 1.21000000e+02, 1.33100000e+03,\n",
       "        1.46410000e+04, 1.61051000e+05, 1.77156100e+06, 1.94871710e+07,\n",
       "        2.14358881e+08],\n",
       "       [1.00000000e+00, 1.20000000e+01, 1.44000000e+02, 1.72800000e+03,\n",
       "        2.07360000e+04, 2.48832000e+05, 2.98598400e+06, 3.58318080e+07,\n",
       "        4.29981696e+08],\n",
       "       [1.00000000e+00, 1.30000000e+01, 1.69000000e+02, 2.19700000e+03,\n",
       "        2.85610000e+04, 3.71293000e+05, 4.82680900e+06, 6.27485170e+07,\n",
       "        8.15730721e+08],\n",
       "       [1.00000000e+00, 1.40000000e+01, 1.96000000e+02, 2.74400000e+03,\n",
       "        3.84160000e+04, 5.37824000e+05, 7.52953600e+06, 1.05413504e+08,\n",
       "        1.47578906e+09],\n",
       "       [1.00000000e+00, 1.50000000e+01, 2.25000000e+02, 3.37500000e+03,\n",
       "        5.06250000e+04, 7.59375000e+05, 1.13906250e+07, 1.70859375e+08,\n",
       "        2.56289062e+09],\n",
       "       [1.00000000e+00, 1.60000000e+01, 2.56000000e+02, 4.09600000e+03,\n",
       "        6.55360000e+04, 1.04857600e+06, 1.67772160e+07, 2.68435456e+08,\n",
       "        4.29496730e+09],\n",
       "       [1.00000000e+00, 1.70000000e+01, 2.89000000e+02, 4.91300000e+03,\n",
       "        8.35210000e+04, 1.41985700e+06, 2.41375690e+07, 4.10338673e+08,\n",
       "        6.97575744e+09],\n",
       "       [1.00000000e+00, 1.80000000e+01, 3.24000000e+02, 5.83200000e+03,\n",
       "        1.04976000e+05, 1.88956800e+06, 3.40122240e+07, 6.12220032e+08,\n",
       "        1.10199606e+10],\n",
       "       [1.00000000e+00, 1.90000000e+01, 3.61000000e+02, 6.85900000e+03,\n",
       "        1.30321000e+05, 2.47609900e+06, 4.70458810e+07, 8.93871739e+08,\n",
       "        1.69835630e+10]])"
      ]
     },
     "execution_count": 6,
     "metadata": {},
     "output_type": "execute_result"
    }
   ],
   "source": [
    "x_transform=obj.fit_transform(x)\n",
    "x_transform\n",
    "#1st column=x^0   where x is level\n",
    "#2nd column=x^1\n",
    "#3rd column=x^2\n",
    "#4th column=x^3"
   ]
  },
  {
   "cell_type": "code",
   "execution_count": 7,
   "metadata": {},
   "outputs": [],
   "source": [
    "from sklearn.linear_model import LinearRegression\n",
    "model=LinearRegression()"
   ]
  },
  {
   "cell_type": "code",
   "execution_count": 8,
   "metadata": {},
   "outputs": [
    {
     "data": {
      "text/plain": [
       "LinearRegression()"
      ]
     },
     "execution_count": 8,
     "metadata": {},
     "output_type": "execute_result"
    }
   ],
   "source": [
    "model.fit(x_transform,y)"
   ]
  },
  {
   "cell_type": "code",
   "execution_count": 9,
   "metadata": {},
   "outputs": [
    {
     "data": {
      "text/plain": [
       "array([-19832.315628])"
      ]
     },
     "execution_count": 9,
     "metadata": {},
     "output_type": "execute_result"
    }
   ],
   "source": [
    "model.intercept_"
   ]
  },
  {
   "cell_type": "code",
   "execution_count": 10,
   "metadata": {},
   "outputs": [
    {
     "data": {
      "text/plain": [
       "array([[ 0.00000000e+00,  7.33146370e+04, -4.92739871e+04,\n",
       "         1.59725004e+04, -2.74444558e+03,  2.66045416e+02,\n",
       "        -1.45749754e+01,  4.21505421e-01, -5.00873729e-03]])"
      ]
     },
     "execution_count": 10,
     "metadata": {},
     "output_type": "execute_result"
    }
   ],
   "source": [
    "model.coef_  #B0,B1,B2,B3"
   ]
  },
  {
   "cell_type": "code",
   "execution_count": 11,
   "metadata": {},
   "outputs": [],
   "source": [
    "y1=model.predict(x_transform)   #as each record is unique we use all as training and test data because if any data miss all values be effected"
   ]
  },
  {
   "cell_type": "code",
   "execution_count": 12,
   "metadata": {},
   "outputs": [
    {
     "data": {
      "text/plain": [
       "array([[ 17688.27601553],\n",
       "       [ 21203.20932366],\n",
       "       [ 20515.97982158],\n",
       "       [ 24013.49621568],\n",
       "       [ 30806.76483894],\n",
       "       [ 37791.48042659],\n",
       "       [ 43046.07753433],\n",
       "       [ 46782.8446238 ],\n",
       "       [ 50865.75055222],\n",
       "       [ 57706.6809154 ],\n",
       "       [ 69149.8294055 ],\n",
       "       [ 85752.03705748],\n",
       "       [106664.91997015],\n",
       "       [130122.67379993],\n",
       "       [154337.49103851],\n",
       "       [178402.57479637],\n",
       "       [202600.7805282 ],\n",
       "       [227314.96484733],\n",
       "       [249534.16828854]])"
      ]
     },
     "execution_count": 12,
     "metadata": {},
     "output_type": "execute_result"
    }
   ],
   "source": [
    "y1"
   ]
  },
  {
   "cell_type": "code",
   "execution_count": 13,
   "metadata": {},
   "outputs": [
    {
     "data": {
      "image/png": "[encoded data removed]",
      "text/plain": [
       "<Figure size 432x288 with 1 Axes>"
      ]
     },
     "metadata": {
      "needs_background": "light"
     },
     "output_type": "display_data"
    }
   ],
   "source": [
    "plt.scatter(x,y,color='r')\n",
    "plt.plot(x,y1,color='b')\n",
    "plt.xlabel('level')\n",
    "plt.ylabel('salary')\n",
    "plt.show()\n",
    "\n",
    "#still there is difference but better than linear \n",
    "#all depends on degree of plynomial if we increase it.it will more close with the data \n",
    "#after a unique degree(like in it use 50+) all value start becoming equal "
   ]
  },
  {
   "cell_type": "code",
   "execution_count": 14,
   "metadata": {},
   "outputs": [
    {
     "name": "stdout",
     "output_type": "stream",
     "text": [
      "2922.3639845835505\n"
     ]
    }
   ],
   "source": [
    "from sklearn import metrics\n",
    "print(metrics.mean_absolute_error(y,y1))"
   ]
  },
  {
   "cell_type": "code",
   "execution_count": 15,
   "metadata": {},
   "outputs": [
    {
     "name": "stdout",
     "output_type": "stream",
     "text": [
      "18286527.647495776\n"
     ]
    }
   ],
   "source": [
    "print(metrics.mean_squared_error(y,y1))"
   ]
  },
  {
   "cell_type": "code",
   "execution_count": 16,
   "metadata": {},
   "outputs": [
    {
     "name": "stdout",
     "output_type": "stream",
     "text": [
      "4276.274973326174\n"
     ]
    }
   ],
   "source": [
    "print(np.sqrt(metrics.mean_squared_error(y,y1)))"
   ]
  },
  {
   "cell_type": "code",
   "execution_count": 17,
   "metadata": {},
   "outputs": [
    {
     "name": "stdout",
     "output_type": "stream",
     "text": [
      "[[46782.8446238]]\n"
     ]
    }
   ],
   "source": [
    "print(model.predict(obj.fit_transform([[8]])))   #we can't put direct value of level we need to transform it first"
   ]
  },
  {
   "cell_type": "markdown",
   "metadata": {},
   "source": [
    "# Linear Regression"
   ]
  },
  {
   "cell_type": "code",
   "execution_count": 20,
   "metadata": {},
   "outputs": [
    {
     "data": {
      "text/plain": [
       "array([[-21518.42105263],\n",
       "       [ -8868.42105263],\n",
       "       [  3781.57894737],\n",
       "       [ 16431.57894737],\n",
       "       [ 29081.57894737],\n",
       "       [ 41731.57894737],\n",
       "       [ 54381.57894737],\n",
       "       [ 67031.57894737],\n",
       "       [ 79681.57894737],\n",
       "       [ 92331.57894737],\n",
       "       [104981.57894737],\n",
       "       [117631.57894737],\n",
       "       [130281.57894737],\n",
       "       [142931.57894737],\n",
       "       [155581.57894737],\n",
       "       [168231.57894737],\n",
       "       [180881.57894737],\n",
       "       [193531.57894737],\n",
       "       [206181.57894737]])"
      ]
     },
     "execution_count": 20,
     "metadata": {},
     "output_type": "execute_result"
    }
   ],
   "source": [
    "models=LinearRegression()\n",
    "models.fit(x,y)\n",
    "y2=models.predict(x)\n",
    "y2                     #linear regression say that it will get more salary than level 11"
   ]
  },
  {
   "cell_type": "code",
   "execution_count": 22,
   "metadata": {},
   "outputs": [
    {
     "data": {
      "text/plain": [
       "[<matplotlib.lines.Line2D at 0x27f1057f5c0>]"
      ]
     },
     "execution_count": 22,
     "metadata": {},
     "output_type": "execute_result"
    },
    {
     "data": {
      "image/png": "[encoded data removed]",
      "text/plain": [
       "<Figure size 432x288 with 1 Axes>"
      ]
     },
     "metadata": {
      "needs_background": "light"
     },
     "output_type": "display_data"
    }
   ],
   "source": [
    "plt.scatter(x,y,color='r')\n",
    "plt.plot(x,y2)"
   ]
  },
  {
   "cell_type": "code",
   "execution_count": null,
   "metadata": {},
   "outputs": [],
   "source": []
  },
  {
   "cell_type": "code",
   "execution_count": null,
   "metadata": {},
   "outputs": [],
   "source": []
  }
 ],
 "metadata": {
  "kernelspec": {
   "display_name": "Python 3",
   "language": "python",
   "name": "python3"
  },
  "language_info": {
   "codemirror_mode": {
    "name": "ipython",
    "version": 3
   },
   "file_extension": ".py",
   "mimetype": "text/x-python",
   "name": "python",
   "nbconvert_exporter": "python",
   "pygments_lexer": "ipython3",
   "version": "3.7.3"
  }
 },
 "nbformat": 4,
 "nbformat_minor": 4
}
