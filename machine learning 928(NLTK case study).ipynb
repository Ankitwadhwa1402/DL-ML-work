{
 "cells": [
  {
   "cell_type": "code",
   "execution_count": 7,
   "metadata": {},
   "outputs": [],
   "source": [
    "import  nltk\n",
    "import string\n",
    "from nltk.corpus import stopwords\n",
    "from nltk.stem.porter import PorterStemmer\n",
    "from string import punctuation\n",
    "from nltk.tokenize import word_tokenize"
   ]
  },
  {
   "cell_type": "code",
   "execution_count": 29,
   "metadata": {},
   "outputs": [],
   "source": [
    "def preprocess(filename):\n",
    "    f=open(filename,encoding='utf8')\n",
    "    text=f.read()\n",
    "    text=text.lower()\n",
    "    \n",
    "    text_p=''.join([char for char in text if char not in punctuation])\n",
    "    \n",
    "    text_rn=''.join([char for char in text if not  char.isdigit()])\n",
    "    \n",
    "    words= word_tokenize(text_p)\n",
    "    \n",
    "    filter_words=[word for word in words if word not in stopwords.words('english')]\n",
    "    \n",
    "    ps=PorterStemmer()\n",
    "    port_stemmed=[ps.stem(word) for word in filter_words ]\n",
    "    \n",
    "    ls=nltk.LancasterStemmer()\n",
    "    lancast_stemmed=[ls.stem(word) for word in filter_words ]\n",
    "    \n",
    "    lemmatizer=nltk.WordNetLemmatizer()\n",
    "    lemmatize_words=[lemmatizer.lemmatize(word) for word in filter_words]\n",
    "    \n",
    "    return text,text_p,text_rn,words,filter_words,port_stemmed,lancast_stemmed,lemmatize_words"
   ]
  },
  {
   "cell_type": "code",
   "execution_count": 30,
   "metadata": {},
   "outputs": [],
   "source": [
    "text,text_p,text_rn,words,filter_words,port_stemmed,lancast_stemmed,lemmatize_words=preprocess('pride.txt')"
   ]
  },
  {
   "cell_type": "code",
   "execution_count": 31,
   "metadata": {},
   "outputs": [
    {
     "name": "stdout",
     "output_type": "stream",
     "text": [
      "game of thrones is an american fantasy drama television series created by david benioff and d. b. weiss for hbo. it is an adaptation of a song of ice and fire, a series of fantasy novels by george r. r. martin, the first of which is a game of thrones. the show was shot in the united kingdom, canada, croatia, iceland, malta, morocco, and spain. it premiered on hbo in the united states on april 17, 2011, and concluded on may 19, 2019, with 73 episodes broadcast over eight seasons.\n",
      "\n",
      "set on the fictional continents of westeros and essos, game of thrones has a large ensemble cast and follows several story arcs throughout the course of the show. the first major arc concerns the iron throne of the seven kingdoms of westeros through a web of political conflicts among the noble families either vying to claim the throne or fighting for independence from whoever sits on it. a second focuses on the last descendant of the realm's deposed ruling dynasty, who has been exiled to essos and is plotting a return and reclaim the throne. the third follows the night's watch, a military order defending the realm against threats from beyond westeros's northern border.\n",
      "\n",
      "game of thrones attracted a record viewership on hbo and has a broad, active, and international fan base. critics have praised the series for its acting, complex characters, story, scope, and production values, although its frequent use of nudity and violence (including sexual violence) has been subject to criticism. the final season received significant critical backlash for its reduced length and creative decisions, with many considering it a disappointing conclusion. the series received 59 primetime emmy awards, the most by a drama series, including outstanding drama series in 2015, 2016, 2018 and 2019. its other awards and nominations include three hugo awards for best dramatic presentation, a peabody award, and five nominations for the golden globe award for best television series – drama. many critics and publications have named the show as one of the best television series of all time.\n"
     ]
    }
   ],
   "source": [
    "print(text)"
   ]
  },
  {
   "cell_type": "code",
   "execution_count": 32,
   "metadata": {},
   "outputs": [
    {
     "name": "stdout",
     "output_type": "stream",
     "text": [
      "game of thrones is an american fantasy drama television series created by david benioff and d b weiss for hbo it is an adaptation of a song of ice and fire a series of fantasy novels by george r r martin the first of which is a game of thrones the show was shot in the united kingdom canada croatia iceland malta morocco and spain it premiered on hbo in the united states on april 17 2011 and concluded on may 19 2019 with 73 episodes broadcast over eight seasons\n",
      "\n",
      "set on the fictional continents of westeros and essos game of thrones has a large ensemble cast and follows several story arcs throughout the course of the show the first major arc concerns the iron throne of the seven kingdoms of westeros through a web of political conflicts among the noble families either vying to claim the throne or fighting for independence from whoever sits on it a second focuses on the last descendant of the realms deposed ruling dynasty who has been exiled to essos and is plotting a return and reclaim the throne the third follows the nights watch a military order defending the realm against threats from beyond westeross northern border\n",
      "\n",
      "game of thrones attracted a record viewership on hbo and has a broad active and international fan base critics have praised the series for its acting complex characters story scope and production values although its frequent use of nudity and violence including sexual violence has been subject to criticism the final season received significant critical backlash for its reduced length and creative decisions with many considering it a disappointing conclusion the series received 59 primetime emmy awards the most by a drama series including outstanding drama series in 2015 2016 2018 and 2019 its other awards and nominations include three hugo awards for best dramatic presentation a peabody award and five nominations for the golden globe award for best television series – drama many critics and publications have named the show as one of the best television series of all time\n"
     ]
    }
   ],
   "source": [
    "print(text_p)"
   ]
  },
  {
   "cell_type": "code",
   "execution_count": 33,
   "metadata": {},
   "outputs": [
    {
     "name": "stdout",
     "output_type": "stream",
     "text": [
      "['game', 'thrones', 'american', 'fantasy', 'drama', 'television', 'series', 'created', 'david', 'benioff', 'b', 'weiss', 'hbo', 'adaptation', 'song', 'ice', 'fire', 'series', 'fantasy', 'novels', 'george', 'r', 'r', 'martin', 'first', 'game', 'thrones', 'show', 'shot', 'united', 'kingdom', 'canada', 'croatia', 'iceland', 'malta', 'morocco', 'spain', 'premiered', 'hbo', 'united', 'states', 'april', '17', '2011', 'concluded', 'may', '19', '2019', '73', 'episodes', 'broadcast', 'eight', 'seasons', 'set', 'fictional', 'continents', 'westeros', 'essos', 'game', 'thrones', 'large', 'ensemble', 'cast', 'follows', 'several', 'story', 'arcs', 'throughout', 'course', 'show', 'first', 'major', 'arc', 'concerns', 'iron', 'throne', 'seven', 'kingdoms', 'westeros', 'web', 'political', 'conflicts', 'among', 'noble', 'families', 'either', 'vying', 'claim', 'throne', 'fighting', 'independence', 'whoever', 'sits', 'second', 'focuses', 'last', 'descendant', 'realms', 'deposed', 'ruling', 'dynasty', 'exiled', 'essos', 'plotting', 'return', 'reclaim', 'throne', 'third', 'follows', 'nights', 'watch', 'military', 'order', 'defending', 'realm', 'threats', 'beyond', 'westeross', 'northern', 'border', 'game', 'thrones', 'attracted', 'record', 'viewership', 'hbo', 'broad', 'active', 'international', 'fan', 'base', 'critics', 'praised', 'series', 'acting', 'complex', 'characters', 'story', 'scope', 'production', 'values', 'although', 'frequent', 'use', 'nudity', 'violence', 'including', 'sexual', 'violence', 'subject', 'criticism', 'final', 'season', 'received', 'significant', 'critical', 'backlash', 'reduced', 'length', 'creative', 'decisions', 'many', 'considering', 'disappointing', 'conclusion', 'series', 'received', '59', 'primetime', 'emmy', 'awards', 'drama', 'series', 'including', 'outstanding', 'drama', 'series', '2015', '2016', '2018', '2019', 'awards', 'nominations', 'include', 'three', 'hugo', 'awards', 'best', 'dramatic', 'presentation', 'peabody', 'award', 'five', 'nominations', 'golden', 'globe', 'award', 'best', 'television', 'series', '–', 'drama', 'many', 'critics', 'publications', 'named', 'show', 'one', 'best', 'television', 'series', 'time']\n"
     ]
    }
   ],
   "source": [
    "print(filter_words)"
   ]
  },
  {
   "cell_type": "code",
   "execution_count": 34,
   "metadata": {},
   "outputs": [
    {
     "name": "stdout",
     "output_type": "stream",
     "text": [
      "['game', 'throne', 'american', 'fantasi', 'drama', 'televis', 'seri', 'creat', 'david', 'benioff', 'b', 'weiss', 'hbo', 'adapt', 'song', 'ice', 'fire', 'seri', 'fantasi', 'novel', 'georg', 'r', 'r', 'martin', 'first', 'game', 'throne', 'show', 'shot', 'unit', 'kingdom', 'canada', 'croatia', 'iceland', 'malta', 'morocco', 'spain', 'premier', 'hbo', 'unit', 'state', 'april', '17', '2011', 'conclud', 'may', '19', '2019', '73', 'episod', 'broadcast', 'eight', 'season', 'set', 'fiction', 'contin', 'westero', 'esso', 'game', 'throne', 'larg', 'ensembl', 'cast', 'follow', 'sever', 'stori', 'arc', 'throughout', 'cours', 'show', 'first', 'major', 'arc', 'concern', 'iron', 'throne', 'seven', 'kingdom', 'westero', 'web', 'polit', 'conflict', 'among', 'nobl', 'famili', 'either', 'vy', 'claim', 'throne', 'fight', 'independ', 'whoever', 'sit', 'second', 'focus', 'last', 'descend', 'realm', 'depos', 'rule', 'dynasti', 'exil', 'esso', 'plot', 'return', 'reclaim', 'throne', 'third', 'follow', 'night', 'watch', 'militari', 'order', 'defend', 'realm', 'threat', 'beyond', 'westeross', 'northern', 'border', 'game', 'throne', 'attract', 'record', 'viewership', 'hbo', 'broad', 'activ', 'intern', 'fan', 'base', 'critic', 'prais', 'seri', 'act', 'complex', 'charact', 'stori', 'scope', 'product', 'valu', 'although', 'frequent', 'use', 'nuditi', 'violenc', 'includ', 'sexual', 'violenc', 'subject', 'critic', 'final', 'season', 'receiv', 'signific', 'critic', 'backlash', 'reduc', 'length', 'creativ', 'decis', 'mani', 'consid', 'disappoint', 'conclus', 'seri', 'receiv', '59', 'primetim', 'emmi', 'award', 'drama', 'seri', 'includ', 'outstand', 'drama', 'seri', '2015', '2016', '2018', '2019', 'award', 'nomin', 'includ', 'three', 'hugo', 'award', 'best', 'dramat', 'present', 'peabodi', 'award', 'five', 'nomin', 'golden', 'globe', 'award', 'best', 'televis', 'seri', '–', 'drama', 'mani', 'critic', 'public', 'name', 'show', 'one', 'best', 'televis', 'seri', 'time']\n"
     ]
    }
   ],
   "source": [
    "print(port_stemmed) "
   ]
  },
  {
   "cell_type": "code",
   "execution_count": 35,
   "metadata": {},
   "outputs": [
    {
     "name": "stdout",
     "output_type": "stream",
     "text": [
      "['gam', 'thrones', 'am', 'fantasy', 'dram', 'televid', 'sery', 'cre', 'david', 'benioff', 'b', 'weiss', 'hbo', 'adapt', 'song', 'ic', 'fir', 'sery', 'fantasy', 'novel', 'georg', 'r', 'r', 'martin', 'first', 'gam', 'thrones', 'show', 'shot', 'unit', 'kingdom', 'canad', 'croat', 'iceland', 'malt', 'morocco', 'spain', 'premy', 'hbo', 'unit', 'stat', 'april', '17', '2011', 'conclud', 'may', '19', '2019', '73', 'episod', 'broadcast', 'eight', 'season', 'set', 'fict', 'contin', 'westero', 'esso', 'gam', 'thrones', 'larg', 'ensembl', 'cast', 'follow', 'sev', 'story', 'arc', 'throughout', 'cours', 'show', 'first', 'maj', 'arc', 'concern', 'iron', 'throne', 'sev', 'kingdom', 'westero', 'web', 'polit', 'conflict', 'among', 'nobl', 'famy', 'eith', 'vying', 'claim', 'throne', 'fight', 'independ', 'whoev', 'sit', 'second', 'focus', 'last', 'descend', 'realm', 'depos', 'rul', 'dynasty', 'exil', 'esso', 'plot', 'return', 'reclaim', 'throne', 'third', 'follow', 'night', 'watch', 'milit', 'ord', 'defend', 'realm', 'threats', 'beyond', 'westeross', 'northern', 'bord', 'gam', 'thrones', 'attract', 'record', 'view', 'hbo', 'broad', 'act', 'intern', 'fan', 'bas', 'crit', 'pra', 'sery', 'act', 'complex', 'charact', 'story', 'scop', 'produc', 'valu', 'although', 'frequ', 'us', 'nud', 'viol', 'includ', 'sex', 'viol', 'subject', 'crit', 'fin', 'season', 'receiv', 'sign', 'crit', 'backlash', 'reduc', 'leng', 'cre', 'decid', 'many', 'consid', 'disappoint', 'conclud', 'sery', 'receiv', '59', 'primetim', 'emmy', 'award', 'dram', 'sery', 'includ', 'outstand', 'dram', 'sery', '2015', '2016', '2018', '2019', 'award', 'nomin', 'includ', 'three', 'hugo', 'award', 'best', 'dram', 'pres', 'peabody', 'award', 'fiv', 'nomin', 'gold', 'glob', 'award', 'best', 'televid', 'sery', '–', 'dram', 'many', 'crit', 'publ', 'nam', 'show', 'on', 'best', 'televid', 'sery', 'tim']\n"
     ]
    }
   ],
   "source": [
    "print(lancast_stemmed)"
   ]
  },
  {
   "cell_type": "code",
   "execution_count": 36,
   "metadata": {},
   "outputs": [
    {
     "name": "stdout",
     "output_type": "stream",
     "text": [
      "['game', 'throne', 'american', 'fantasy', 'drama', 'television', 'series', 'created', 'david', 'benioff', 'b', 'wei', 'hbo', 'adaptation', 'song', 'ice', 'fire', 'series', 'fantasy', 'novel', 'george', 'r', 'r', 'martin', 'first', 'game', 'throne', 'show', 'shot', 'united', 'kingdom', 'canada', 'croatia', 'iceland', 'malta', 'morocco', 'spain', 'premiered', 'hbo', 'united', 'state', 'april', '17', '2011', 'concluded', 'may', '19', '2019', '73', 'episode', 'broadcast', 'eight', 'season', 'set', 'fictional', 'continent', 'westeros', 'essos', 'game', 'throne', 'large', 'ensemble', 'cast', 'follows', 'several', 'story', 'arc', 'throughout', 'course', 'show', 'first', 'major', 'arc', 'concern', 'iron', 'throne', 'seven', 'kingdom', 'westeros', 'web', 'political', 'conflict', 'among', 'noble', 'family', 'either', 'vying', 'claim', 'throne', 'fighting', 'independence', 'whoever', 'sits', 'second', 'focus', 'last', 'descendant', 'realm', 'deposed', 'ruling', 'dynasty', 'exiled', 'essos', 'plotting', 'return', 'reclaim', 'throne', 'third', 'follows', 'night', 'watch', 'military', 'order', 'defending', 'realm', 'threat', 'beyond', 'westeross', 'northern', 'border', 'game', 'throne', 'attracted', 'record', 'viewership', 'hbo', 'broad', 'active', 'international', 'fan', 'base', 'critic', 'praised', 'series', 'acting', 'complex', 'character', 'story', 'scope', 'production', 'value', 'although', 'frequent', 'use', 'nudity', 'violence', 'including', 'sexual', 'violence', 'subject', 'criticism', 'final', 'season', 'received', 'significant', 'critical', 'backlash', 'reduced', 'length', 'creative', 'decision', 'many', 'considering', 'disappointing', 'conclusion', 'series', 'received', '59', 'primetime', 'emmy', 'award', 'drama', 'series', 'including', 'outstanding', 'drama', 'series', '2015', '2016', '2018', '2019', 'award', 'nomination', 'include', 'three', 'hugo', 'award', 'best', 'dramatic', 'presentation', 'peabody', 'award', 'five', 'nomination', 'golden', 'globe', 'award', 'best', 'television', 'series', '–', 'drama', 'many', 'critic', 'publication', 'named', 'show', 'one', 'best', 'television', 'series', 'time']\n"
     ]
    }
   ],
   "source": [
    "print(lemmatize_words)"
   ]
  },
  {
   "cell_type": "markdown",
   "metadata": {},
   "source": [
    "# Accessing text from web"
   ]
  },
  {
   "cell_type": "code",
   "execution_count": 57,
   "metadata": {},
   "outputs": [
    {
     "name": "stdout",
     "output_type": "stream",
     "text": [
      "<class 'bytes'>\n",
      "b'********************************************************************** \\r\\nDDN MGT Bulletin 31             DCA DDN Defense Communications Systems   \\r\\n24 Mar 86                            Published by: Network Info Center\\r\\n                                    (NIC@SRI-NIC.ARPA)  (800) 235-3155\\r\\n\\r\\n\\r\\n                        DEFENSE  DATA  NETWORK\\r\\n\\r\\n                         MANAGEMENT  BULLETIN\\r\\n\\r\\nThe DDN MANAGEMENT BULLETIN is distributed online by the DDN Network\\r\\nInformation Center under DCA contract as a means of communicating\\r\\nofficial policy, procedures and other information of concern to\\r\\nmanagement personnel at DDN facilities.  Back issues may be read\\r\\nthrough the TACNEWS server (\"@n\" command at the TAC) or may be\\r\\nobtained by FTP from the SRI-NIC host [26.0.0.73 or 10.0.0.51] using\\r\\nuserid=\"anonymous\" and password=\"guest\".  The filename format for\\r\\nbulletins is DDN-NEWS:DDN-MGT-BULLETIN-nn.TXT (where \"nn\" is the\\r\\nbulletin number).\\r\\n**********************************************************************\\r\\n\\r\\n           POLICY FOR DEFENSE DATA NETWORK NODE RELOCATIONS\\r\\n\\r\\nDefense Communications Agency (DCA) letter, dated 24 May 84, provided\\r\\nthe policy for Defense Data Network (DDN) node relocations.  We are\\r\\nmindful of the need to relocate communications and ADP equipment to\\r\\naccommodate changes and expansions at the local level.  However, the\\r\\nincreasing reliance on DDN by operational systems and the need to\\r\\nschedule our relocation resources dictates that we revise our policy\\r\\non node relocation.  We request widest dissemination of this policy.\\r\\n\\r\\nOne year advance notice of a proposed DDN node relocation is\\r\\nrequired to properly plan, schedule, survey and accomplish the\\r\\nrelocation.  Notice will be provided by the local command/agency via\\r\\nformal message to DCA Code B652 (as action addressee) and to all\\r\\nintermediate Service Operations and Maintenance (O&M)/Engineering and\\r\\nInstallation (E&I) commands and associated DDN project offices\\r\\n(as information addressees).  The message will contain, as a minimum,\\r\\nthe following information:\\r\\n\\r\\n    a.  Node name and number.\\r\\n\\r\\n    b.  Node Site Coordinator: (name, telephone number and electronic\\r\\n        mail address).\\r\\n\\r\\n    c.  Current node location:  (building, room, address).\\r\\n\\r\\n    d.  Proposed node location:  (building, room, address).\\r\\n\\r\\n    e.  Date relocation must be completed.\\r\\n\\r\\n    f.  Reason relocation required:  (include impact if not accomplished).\\r\\n\\r\\n    g.  Telecommunications service actions:  (explain, in detail, all\\r\\n        circuit actions required).\\r\\n\\r\\n    h.  Proposed schedule:  (begin with proposed site survey date and \\r\\n        show dates, required action and proposed office of primary\\r\\n        responsibility).\\r\\n\\r\\nDCA may, on a case-by-case basis, be able to make exceptions to\\r\\nthe one year lead time.  Any DCA exception will be accomplished by\\r\\nformal correspondence (message or letter) and will be based on the\\r\\ncomplexity of the proposed relocation and required Telecommunications\\r\\nService Request (TSR)/Telecommunications Service Order (TSO) lead\\r\\ntimes in accordance with DCA Circular 310-130-1.  For example, a\\r\\nshorter lead time may be possible if all actions (except for the actual\\r\\ndeinstallation/reinstallation of the DDN provided node equipment) can be\\r\\naccomplished by the local O&M/E&I organization and only record purpose\\r\\nTSR\\'s are required.\\r\\n\\r\\nAt no time is the site authorized to move equipment without DCA\\r\\napproval and DDN prime contractor support.  Normally, a site survey\\r\\nwill be performed for relocations, with DCA, Service (O&M/E&I) and\\r\\nlocal command participation.  Additionally, the requesting organization\\r\\nmay be required to provide a fund cite to support the cost of DCA/DDN\\r\\nsurvey and E&I support in accordance with DCA message 231613Z Apr 85,\\r\\nsubject:  DDN Node Site Surveys.\\r\\n\\r\\nAll organizations supporting DDN node sites are reminded that a node \\r\\nrelocation will require a DDN node outage with various degrees of\\r\\nuser and DDN mission impact.  For example, the removal of one node\\r\\nmay result in single thread connectivity for other nodes.  Therefore,\\r\\nthe subsequent outage of an interswitch trunk circuit or node may\\r\\nisolate several other nodes and all associated host connections.\\r\\nProper advanced planning will permit DCA and respective organizations\\r\\nto minimize the impact of the node relocation.  Lack of adequate\\r\\nlead time may necessitate DCA directed de-installation and storage\\r\\nof the DDN node equipment until re-installation actions can be\\r\\nscheduled and accomplished.\\r\\n\\r\\nThe office of primary responsibility within DCA for operational node\\r\\nrelocation requests is the Packet Switch Operations Branch, Code B652,\\r\\n(703) 285-5225, (V) 356-5225, DCAB652@DDN1.  The office of collateral\\r\\nresponsibility is the Installation Management Branch, Code B642, (703)\\r\\n285-5341, (V) 356-5341, DCAB642@DDN1.\\r\\n\\r\\nThis policy has been disseminated as an official DCA message, date-time\\r\\ngroup 181953Z Mar 86, subject as above.\\r\\n\\r\\n\\r\\n\\r\\n\\r\\n'\n"
     ]
    }
   ],
   "source": [
    "from urllib.request import urlopen\n",
    "url=\"http://textfiles.com/internet/31.txt\"\n",
    "\n",
    "raw1=urlopen(url).read()\n",
    "print(type(raw1))\n",
    "print(raw1)\n"
   ]
  },
  {
   "cell_type": "code",
   "execution_count": 58,
   "metadata": {},
   "outputs": [
    {
     "name": "stdout",
     "output_type": "stream",
     "text": [
      "********************************************************************** \r\n",
      "DDN MGT Bulletin 31             DCA DDN Defense Communications Systems   \r\n",
      "24 Mar 86                            Published by: Network Info Center\r\n",
      "                                    (NIC@SRI-NIC.ARPA)  (800) 235-3155\r\n",
      "\r\n",
      "\r\n",
      "                        DEFENSE  DATA  NETWORK\r\n",
      "\r\n",
      "                         MANAGEMENT  BULLETIN\r\n",
      "\r\n",
      "The DDN MANAGEMENT BULLETIN is distributed online by the DDN Network\r\n",
      "Information Center under DCA contract as a means of communicating\r\n",
      "official policy, procedures and other information of concern to\r\n",
      "management personnel at DDN facilities.  Back issues may be read\r\n",
      "through the TACNEWS server (\"@n\" command at the TAC) or may be\r\n",
      "obtained by FTP from the SRI-NIC host [26.0.0.73 or 10.0.0.51] using\r\n",
      "userid=\"anonymous\" and password=\"guest\".  The filename format for\r\n",
      "bulletins is DDN-NEWS:DDN-MGT-BULLETIN-nn.TXT (where \"nn\" is the\r\n",
      "bulletin number).\r\n",
      "**********************************************************************\r\n",
      "\r\n",
      "           POLICY FOR DEFENSE DATA NETWORK NODE RELOCATIONS\r\n",
      "\r\n",
      "Defense Communications Agency (DCA) letter, dated 24 May 84, provided\r\n",
      "the policy for Defense Data Network (DDN) node relocations.  We are\r\n",
      "mindful of the need to relocate communications and ADP equipment to\r\n",
      "accommodate changes and expansions at the local level.  However, the\r\n",
      "increasing reliance on DDN by operational systems and the need to\r\n",
      "schedule our relocation resources dictates that we revise our policy\r\n",
      "on node relocation.  We request widest dissemination of this policy.\r\n",
      "\r\n",
      "One year advance notice of a proposed DDN node relocation is\r\n",
      "required to properly plan, schedule, survey and accomplish the\r\n",
      "relocation.  Notice will be provided by the local command/agency via\r\n",
      "formal message to DCA Code B652 (as action addressee) and to all\r\n",
      "intermediate Service Operations and Maintenance (O&M)/Engineering and\r\n",
      "Installation (E&I) commands and associated DDN project offices\r\n",
      "(as information addressees).  The message will contain, as a minimum,\r\n",
      "the following information:\r\n",
      "\r\n",
      "    a.  Node name and number.\r\n",
      "\r\n",
      "    b.  Node Site Coordinator: (name, telephone number and electronic\r\n",
      "        mail address).\r\n",
      "\r\n",
      "    c.  Current node location:  (building, room, address).\r\n",
      "\r\n",
      "    d.  Proposed node location:  (building, room, address).\r\n",
      "\r\n",
      "    e.  Date relocation must be completed.\r\n",
      "\r\n",
      "    f.  Reason relocation required:  (include impact if not accomplished).\r\n",
      "\r\n",
      "    g.  Telecommunications service actions:  (explain, in detail, all\r\n",
      "        circuit actions required).\r\n",
      "\r\n",
      "    h.  Proposed schedule:  (begin with proposed site survey date and \r\n",
      "        show dates, required action and proposed office of primary\r\n",
      "        responsibility).\r\n",
      "\r\n",
      "DCA may, on a case-by-case basis, be able to make exceptions to\r\n",
      "the one year lead time.  Any DCA exception will be accomplished by\r\n",
      "formal correspondence (message or letter) and will be based on the\r\n",
      "complexity of the proposed relocation and required Telecommunications\r\n",
      "Service Request (TSR)/Telecommunications Service Order (TSO) lead\r\n",
      "times in accordance with DCA Circular 310-130-1.  For example, a\r\n",
      "shorter lead time may be possible if all actions (except for the actual\r\n",
      "deinstallation/reinstallation of the DDN provided node equipment) can be\r\n",
      "accomplished by the local O&M/E&I organization and only record purpose\r\n",
      "TSR's are required.\r\n",
      "\r\n",
      "At no time is the site authorized to move equipment without DCA\r\n",
      "approval and DDN prime contractor support.  Normally, a site survey\r\n",
      "will be performed for relocations, with DCA, Service (O&M/E&I) and\r\n",
      "local command participation.  Additionally, the requesting organization\r\n",
      "may be required to provide a fund cite to support the cost of DCA/DDN\r\n",
      "survey and E&I support in accordance with DCA message 231613Z Apr 85,\r\n",
      "subject:  DDN Node Site Surveys.\r\n",
      "\r\n",
      "All organizations supporting DDN node sites are reminded that a node \r\n",
      "relocation will require a DDN node outage with various degrees of\r\n",
      "user and DDN mission impact.  For example, the removal of one node\r\n",
      "may result in single thread connectivity for other nodes.  Therefore,\r\n",
      "the subsequent outage of an interswitch trunk circuit or node may\r\n",
      "isolate several other nodes and all associated host connections.\r\n",
      "Proper advanced planning will permit DCA and respective organizations\r\n",
      "to minimize the impact of the node relocation.  Lack of adequate\r\n",
      "lead time may necessitate DCA directed de-installation and storage\r\n",
      "of the DDN node equipment until re-installation actions can be\r\n",
      "scheduled and accomplished.\r\n",
      "\r\n",
      "The office of primary responsibility within DCA for operational node\r\n",
      "relocation requests is the Packet Switch Operations Branch, Code B652,\r\n",
      "(703) 285-5225, (V) 356-5225, DCAB652@DDN1.  The office of collateral\r\n",
      "responsibility is the Installation Management Branch, Code B642, (703)\r\n",
      "285-5341, (V) 356-5341, DCAB642@DDN1.\r\n",
      "\r\n",
      "This policy has been disseminated as an official DCA message, date-time\r\n",
      "group 181953Z Mar 86, subject as above.\r\n",
      "\r\n",
      "\r\n",
      "\r\n",
      "\r\n",
      "\n"
     ]
    },
    {
     "data": {
      "text/plain": [
       "4986"
      ]
     },
     "execution_count": 58,
     "metadata": {},
     "output_type": "execute_result"
    }
   ],
   "source": [
    "raw=bytes.decode(raw1)\n",
    "print(raw) \n",
    "len(raw)"
   ]
  },
  {
   "cell_type": "code",
   "execution_count": null,
   "metadata": {},
   "outputs": [],
   "source": []
  }
 ],
 "metadata": {
  "kernelspec": {
   "display_name": "Python 3",
   "language": "python",
   "name": "python3"
  },
  "language_info": {
   "codemirror_mode": {
    "name": "ipython",
    "version": 3
   },
   "file_extension": ".py",
   "mimetype": "text/x-python",
   "name": "python",
   "nbconvert_exporter": "python",
   "pygments_lexer": "ipython3",
   "version": "3.7.3"
  }
 },
 "nbformat": 4,
 "nbformat_minor": 4
}
